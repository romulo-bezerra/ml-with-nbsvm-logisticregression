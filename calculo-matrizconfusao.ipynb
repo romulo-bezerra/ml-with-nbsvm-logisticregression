{
 "cells": [
  {
   "cell_type": "markdown",
   "metadata": {},
   "source": [
    "## Calculando Matriz de Confusão Manualmente"
   ]
  },
  {
   "cell_type": "code",
   "execution_count": 8,
   "metadata": {
    "scrolled": true
   },
   "outputs": [
    {
     "data": {
      "text/html": [
       "<div>\n",
       "<style scoped>\n",
       "    .dataframe tbody tr th:only-of-type {\n",
       "        vertical-align: middle;\n",
       "    }\n",
       "\n",
       "    .dataframe tbody tr th {\n",
       "        vertical-align: top;\n",
       "    }\n",
       "\n",
       "    .dataframe thead th {\n",
       "        text-align: right;\n",
       "    }\n",
       "</style>\n",
       "<table border=\"1\" class=\"dataframe\">\n",
       "  <thead>\n",
       "    <tr style=\"text-align: right;\">\n",
       "      <th></th>\n",
       "      <th>content</th>\n",
       "      <th>programacao orientada a objeto</th>\n",
       "      <th>linguagem de marcacao</th>\n",
       "      <th>banco de dados</th>\n",
       "      <th>linguagem de script</th>\n",
       "    </tr>\n",
       "  </thead>\n",
       "  <tbody>\n",
       "    <tr>\n",
       "      <th>0</th>\n",
       "      <td>package telas import main programaprincipal mo...</td>\n",
       "      <td>0.967324</td>\n",
       "      <td>0.018103</td>\n",
       "      <td>0.005611</td>\n",
       "      <td>0.029743</td>\n",
       "    </tr>\n",
       "    <tr>\n",
       "      <th>1</th>\n",
       "      <td>to change this license header choose headers i...</td>\n",
       "      <td>0.941868</td>\n",
       "      <td>0.024524</td>\n",
       "      <td>0.004905</td>\n",
       "      <td>0.033939</td>\n",
       "    </tr>\n",
       "    <tr>\n",
       "      <th>2</th>\n",
       "      <td>package main import telas telaprincipal modelo...</td>\n",
       "      <td>0.962034</td>\n",
       "      <td>0.010019</td>\n",
       "      <td>0.005144</td>\n",
       "      <td>0.011803</td>\n",
       "    </tr>\n",
       "    <tr>\n",
       "      <th>3</th>\n",
       "      <td>to change this license header choose headers i...</td>\n",
       "      <td>0.890534</td>\n",
       "      <td>0.007565</td>\n",
       "      <td>0.024002</td>\n",
       "      <td>0.014741</td>\n",
       "    </tr>\n",
       "    <tr>\n",
       "      <th>4</th>\n",
       "      <td>package modelos import java io serializable se...</td>\n",
       "      <td>0.961021</td>\n",
       "      <td>0.004265</td>\n",
       "      <td>0.009427</td>\n",
       "      <td>0.006270</td>\n",
       "    </tr>\n",
       "  </tbody>\n",
       "</table>\n",
       "</div>"
      ],
      "text/plain": [
       "                                             content  \\\n",
       "0  package telas import main programaprincipal mo...   \n",
       "1  to change this license header choose headers i...   \n",
       "2  package main import telas telaprincipal modelo...   \n",
       "3  to change this license header choose headers i...   \n",
       "4  package modelos import java io serializable se...   \n",
       "\n",
       "   programacao orientada a objeto  linguagem de marcacao  banco de dados  \\\n",
       "0                        0.967324               0.018103        0.005611   \n",
       "1                        0.941868               0.024524        0.004905   \n",
       "2                        0.962034               0.010019        0.005144   \n",
       "3                        0.890534               0.007565        0.024002   \n",
       "4                        0.961021               0.004265        0.009427   \n",
       "\n",
       "   linguagem de script  \n",
       "0             0.029743  \n",
       "1             0.033939  \n",
       "2             0.011803  \n",
       "3             0.014741  \n",
       "4             0.006270  "
      ]
     },
     "execution_count": 8,
     "metadata": {},
     "output_type": "execute_result"
    }
   ],
   "source": [
    "classificados = pd.read_csv('submission.csv')\n",
    "classificados.head()"
   ]
  },
  {
   "cell_type": "code",
   "execution_count": 9,
   "metadata": {},
   "outputs": [
    {
     "data": {
      "text/plain": [
       "0    0.967324\n",
       "1    0.941868\n",
       "2    0.962034\n",
       "3    0.890534\n",
       "4    0.961021\n",
       "Name: programacao orientada a objeto, dtype: float64"
      ]
     },
     "execution_count": 9,
     "metadata": {},
     "output_type": "execute_result"
    }
   ],
   "source": [
    "col_poo = classificados['programacao orientada a objeto']\n",
    "col_poo.head()"
   ]
  },
  {
   "cell_type": "code",
   "execution_count": 10,
   "metadata": {},
   "outputs": [
    {
     "data": {
      "text/plain": [
       "0    0.018103\n",
       "1    0.024524\n",
       "2    0.010019\n",
       "3    0.007565\n",
       "4    0.004265\n",
       "Name: linguagem de marcacao, dtype: float64"
      ]
     },
     "execution_count": 10,
     "metadata": {},
     "output_type": "execute_result"
    }
   ],
   "source": [
    "col_lm = classificados['linguagem de marcacao']\n",
    "col_lm.head()"
   ]
  },
  {
   "cell_type": "code",
   "execution_count": 11,
   "metadata": {},
   "outputs": [
    {
     "data": {
      "text/plain": [
       "0    0.005611\n",
       "1    0.004905\n",
       "2    0.005144\n",
       "3    0.024002\n",
       "4    0.009427\n",
       "Name: banco de dados, dtype: float64"
      ]
     },
     "execution_count": 11,
     "metadata": {},
     "output_type": "execute_result"
    }
   ],
   "source": [
    "col_bd = classificados['banco de dados']\n",
    "col_bd.head()"
   ]
  },
  {
   "cell_type": "code",
   "execution_count": 12,
   "metadata": {},
   "outputs": [
    {
     "data": {
      "text/plain": [
       "0    0.029743\n",
       "1    0.033939\n",
       "2    0.011803\n",
       "3    0.014741\n",
       "4    0.006270\n",
       "Name: linguagem de script, dtype: float64"
      ]
     },
     "execution_count": 12,
     "metadata": {},
     "output_type": "execute_result"
    }
   ],
   "source": [
    "col_ls = classificados['linguagem de script']\n",
    "col_ls.head()"
   ]
  },
  {
   "cell_type": "code",
   "execution_count": 13,
   "metadata": {},
   "outputs": [
    {
     "data": {
      "text/plain": [
       "array([0.96732355, 0.9418678 , 0.96203413, ..., 0.0106134 , 0.00286718,\n",
       "       0.01518769])"
      ]
     },
     "execution_count": 13,
     "metadata": {},
     "output_type": "execute_result"
    }
   ],
   "source": [
    "col_poo_array = col_poo.values\n",
    "col_poo_array"
   ]
  },
  {
   "cell_type": "code",
   "execution_count": 14,
   "metadata": {},
   "outputs": [
    {
     "data": {
      "text/plain": [
       "array([0.01810293, 0.024524  , 0.01001853, ..., 0.0068414 , 0.00556231,\n",
       "       0.01230414])"
      ]
     },
     "execution_count": 14,
     "metadata": {},
     "output_type": "execute_result"
    }
   ],
   "source": [
    "col_lm_array = col_lm.values\n",
    "col_lm_array"
   ]
  },
  {
   "cell_type": "code",
   "execution_count": 15,
   "metadata": {},
   "outputs": [
    {
     "data": {
      "text/plain": [
       "array([0.00561146, 0.0049053 , 0.0051436 , ..., 0.0029866 , 0.00314387,\n",
       "       0.0036175 ])"
      ]
     },
     "execution_count": 15,
     "metadata": {},
     "output_type": "execute_result"
    }
   ],
   "source": [
    "col_bd_array = col_bd.values\n",
    "col_bd_array"
   ]
  },
  {
   "cell_type": "code",
   "execution_count": 17,
   "metadata": {},
   "outputs": [
    {
     "data": {
      "text/plain": [
       "array([0.02974293, 0.0339389 , 0.01180257, ..., 0.98762538, 0.99912552,\n",
       "       0.91186138])"
      ]
     },
     "execution_count": 17,
     "metadata": {},
     "output_type": "execute_result"
    }
   ],
   "source": [
    "col_ls_array = col_ls.values\n",
    "col_ls_array"
   ]
  },
  {
   "cell_type": "code",
   "execution_count": 34,
   "metadata": {},
   "outputs": [],
   "source": [
    "# tansformando com base no limiar minimo\n",
    "array_bin_col_poo = []\n",
    "array_bin_col_lm = []\n",
    "array_bin_col_bd = []\n",
    "array_bin_col_ls = []\n",
    "for i in range(len(col_poo_array)):\n",
    "    \n",
    "    if col_poo_array[i] >= 0.7:\n",
    "        array_bin_col_poo.append(1)\n",
    "    else: array_bin_col_poo.append(0)\n",
    "    \n",
    "    if col_lm_array[i] >= 0.7:\n",
    "        array_bin_col_lm.append(1)\n",
    "    else: array_bin_col_lm.append(0)\n",
    "        \n",
    "    if col_bd_array[i] >= 0.7:\n",
    "        array_bin_col_bd.append(1)\n",
    "    else: array_bin_col_bd.append(0)\n",
    "        \n",
    "    if col_ls_array[i] >= 0.7:\n",
    "        array_bin_col_ls.append(1)\n",
    "    else: array_bin_col_ls.append(0)   \n",
    "    "
   ]
  },
  {
   "cell_type": "code",
   "execution_count": 19,
   "metadata": {},
   "outputs": [
    {
     "data": {
      "text/html": [
       "<div>\n",
       "<style scoped>\n",
       "    .dataframe tbody tr th:only-of-type {\n",
       "        vertical-align: middle;\n",
       "    }\n",
       "\n",
       "    .dataframe tbody tr th {\n",
       "        vertical-align: top;\n",
       "    }\n",
       "\n",
       "    .dataframe thead th {\n",
       "        text-align: right;\n",
       "    }\n",
       "</style>\n",
       "<table border=\"1\" class=\"dataframe\">\n",
       "  <thead>\n",
       "    <tr style=\"text-align: right;\">\n",
       "      <th></th>\n",
       "      <th>programacao orientada a objeto</th>\n",
       "      <th>linguagem de marcacao</th>\n",
       "      <th>banco de dados</th>\n",
       "      <th>linguagem de script</th>\n",
       "      <th>content</th>\n",
       "    </tr>\n",
       "  </thead>\n",
       "  <tbody>\n",
       "    <tr>\n",
       "      <th>0</th>\n",
       "      <td>1</td>\n",
       "      <td>0</td>\n",
       "      <td>0</td>\n",
       "      <td>0</td>\n",
       "      <td>package telas import main programaprincipal mo...</td>\n",
       "    </tr>\n",
       "    <tr>\n",
       "      <th>1</th>\n",
       "      <td>1</td>\n",
       "      <td>0</td>\n",
       "      <td>0</td>\n",
       "      <td>0</td>\n",
       "      <td>to change this license header choose headers i...</td>\n",
       "    </tr>\n",
       "    <tr>\n",
       "      <th>2</th>\n",
       "      <td>1</td>\n",
       "      <td>0</td>\n",
       "      <td>0</td>\n",
       "      <td>0</td>\n",
       "      <td>package main import telas telaprincipal modelo...</td>\n",
       "    </tr>\n",
       "    <tr>\n",
       "      <th>3</th>\n",
       "      <td>1</td>\n",
       "      <td>0</td>\n",
       "      <td>0</td>\n",
       "      <td>0</td>\n",
       "      <td>to change this license header choose headers i...</td>\n",
       "    </tr>\n",
       "    <tr>\n",
       "      <th>4</th>\n",
       "      <td>1</td>\n",
       "      <td>0</td>\n",
       "      <td>0</td>\n",
       "      <td>0</td>\n",
       "      <td>package modelos import java io serializable se...</td>\n",
       "    </tr>\n",
       "  </tbody>\n",
       "</table>\n",
       "</div>"
      ],
      "text/plain": [
       "   programacao orientada a objeto  linguagem de marcacao  banco de dados  \\\n",
       "0                               1                      0               0   \n",
       "1                               1                      0               0   \n",
       "2                               1                      0               0   \n",
       "3                               1                      0               0   \n",
       "4                               1                      0               0   \n",
       "\n",
       "   linguagem de script                                            content  \n",
       "0                    0  package telas import main programaprincipal mo...  \n",
       "1                    0  to change this license header choose headers i...  \n",
       "2                    0  package main import telas telaprincipal modelo...  \n",
       "3                    0  to change this license header choose headers i...  \n",
       "4                    0  package modelos import java io serializable se...  "
      ]
     },
     "execution_count": 19,
     "metadata": {},
     "output_type": "execute_result"
    }
   ],
   "source": [
    "# carregando o aqruivo real para comparação\n",
    "test_real = pd.read_csv('dataset-test-real.csv')\n",
    "test_real.head()"
   ]
  },
  {
   "cell_type": "code",
   "execution_count": 20,
   "metadata": {},
   "outputs": [
    {
     "data": {
      "text/plain": [
       "0    1\n",
       "1    1\n",
       "2    1\n",
       "3    1\n",
       "4    1\n",
       "Name: programacao orientada a objeto, dtype: int64"
      ]
     },
     "execution_count": 20,
     "metadata": {},
     "output_type": "execute_result"
    }
   ],
   "source": [
    "col_poo_real = test_real['programacao orientada a objeto']\n",
    "col_poo_real.head()"
   ]
  },
  {
   "cell_type": "code",
   "execution_count": 21,
   "metadata": {},
   "outputs": [
    {
     "data": {
      "text/plain": [
       "0    0\n",
       "1    0\n",
       "2    0\n",
       "3    0\n",
       "4    0\n",
       "Name: linguagem de marcacao, dtype: int64"
      ]
     },
     "execution_count": 21,
     "metadata": {},
     "output_type": "execute_result"
    }
   ],
   "source": [
    "col_lm_real = test_real['linguagem de marcacao']\n",
    "col_lm_real.head()"
   ]
  },
  {
   "cell_type": "code",
   "execution_count": 22,
   "metadata": {},
   "outputs": [
    {
     "data": {
      "text/plain": [
       "0    0\n",
       "1    0\n",
       "2    0\n",
       "3    0\n",
       "4    0\n",
       "Name: banco de dados, dtype: int64"
      ]
     },
     "execution_count": 22,
     "metadata": {},
     "output_type": "execute_result"
    }
   ],
   "source": [
    "col_bd_real = test_real['banco de dados']\n",
    "col_bd_real.head()"
   ]
  },
  {
   "cell_type": "code",
   "execution_count": 23,
   "metadata": {},
   "outputs": [
    {
     "data": {
      "text/plain": [
       "0    0\n",
       "1    0\n",
       "2    0\n",
       "3    0\n",
       "4    0\n",
       "Name: banco de dados, dtype: int64"
      ]
     },
     "execution_count": 23,
     "metadata": {},
     "output_type": "execute_result"
    }
   ],
   "source": [
    "col_bd_real = test_real['banco de dados']\n",
    "col_bd_real.head()"
   ]
  },
  {
   "cell_type": "code",
   "execution_count": 24,
   "metadata": {},
   "outputs": [
    {
     "data": {
      "text/plain": [
       "0    0\n",
       "1    0\n",
       "2    0\n",
       "3    0\n",
       "4    0\n",
       "Name: linguagem de script, dtype: int64"
      ]
     },
     "execution_count": 24,
     "metadata": {},
     "output_type": "execute_result"
    }
   ],
   "source": [
    "col_ls_real = test_real['linguagem de script']\n",
    "col_ls_real.head()"
   ]
  },
  {
   "cell_type": "code",
   "execution_count": 33,
   "metadata": {},
   "outputs": [
    {
     "data": {
      "text/plain": [
       "array([1, 1, 1, ..., 0, 0, 0])"
      ]
     },
     "execution_count": 33,
     "metadata": {},
     "output_type": "execute_result"
    }
   ],
   "source": [
    "col_poo_array_real = col_poo_real.values\n",
    "col_poo_array_real"
   ]
  },
  {
   "cell_type": "code",
   "execution_count": 26,
   "metadata": {},
   "outputs": [
    {
     "data": {
      "text/plain": [
       "array([0, 0, 0, ..., 0, 0, 0])"
      ]
     },
     "execution_count": 26,
     "metadata": {},
     "output_type": "execute_result"
    }
   ],
   "source": [
    "col_lm_array_real = col_lm_real.values\n",
    "col_lm_array_real"
   ]
  },
  {
   "cell_type": "code",
   "execution_count": 27,
   "metadata": {},
   "outputs": [
    {
     "data": {
      "text/plain": [
       "array([0, 0, 0, ..., 0, 0, 0])"
      ]
     },
     "execution_count": 27,
     "metadata": {},
     "output_type": "execute_result"
    }
   ],
   "source": [
    "col_bd_array_real = col_bd_real.values\n",
    "col_bd_array_real"
   ]
  },
  {
   "cell_type": "code",
   "execution_count": 28,
   "metadata": {},
   "outputs": [
    {
     "data": {
      "text/plain": [
       "array([0, 0, 0, ..., 1, 1, 1])"
      ]
     },
     "execution_count": 28,
     "metadata": {},
     "output_type": "execute_result"
    }
   ],
   "source": [
    "col_ls_array_real = col_ls_real.values\n",
    "col_ls_array_real"
   ]
  },
  {
   "cell_type": "code",
   "execution_count": null,
   "metadata": {},
   "outputs": [],
   "source": [
    "# --------------------"
   ]
  },
  {
   "cell_type": "code",
   "execution_count": 53,
   "metadata": {},
   "outputs": [
    {
     "data": {
      "text/plain": [
       "array([[ 997,  174],\n",
       "       [   0, 2191]])"
      ]
     },
     "execution_count": 53,
     "metadata": {},
     "output_type": "execute_result"
    }
   ],
   "source": [
    "import numpy as np\n",
    "\n",
    "valores_reais    = col_ls_array_real\n",
    "valores_preditos = array_bin_col_ls\n",
    "\n",
    "def get_confusion_matrix(reais, preditos, labels):\n",
    "    \"\"\"\n",
    "    Uma função que retorna a matriz de confusão para uma classificação binária\n",
    "    \n",
    "    Args:\n",
    "        reais (list): lista de valores reais\n",
    "        preditos (list): lista de valores preditos pelo modelos\n",
    "        labels (list): lista de labels a serem avaliados.\n",
    "            É importante que ela esteja presente, pois usaremos ela para entender\n",
    "            quem é a classe positiva e quem é a classe negativa\n",
    "    \n",
    "    Returns:\n",
    "        Um numpy.array, no formato:\n",
    "            numpy.array([\n",
    "                [ tp, fp ],\n",
    "                [ fn, tn ]\n",
    "            ])\n",
    "    \"\"\"\n",
    "    # não implementado\n",
    "    if len(labels) > 2:\n",
    "        return None\n",
    "\n",
    "    if len(reais) != len(preditos):\n",
    "        return None\n",
    "    \n",
    "    # considerando a primeira classe como a positiva, e a segunda a negativa\n",
    "    true_class = labels[0]\n",
    "    negative_class = labels[1]\n",
    "\n",
    "    # valores preditos corretamente\n",
    "    tp = 0\n",
    "    tn = 0\n",
    "    \n",
    "    # valores preditos incorretamente\n",
    "    fp = 0\n",
    "    fn = 0\n",
    "    \n",
    "    for (indice, v_real) in enumerate(reais):\n",
    "        v_predito = preditos[indice]\n",
    "\n",
    "        # se trata de um valor real da classe positiva\n",
    "        if v_real == true_class:\n",
    "            tp += 1 if v_predito == v_real else 0\n",
    "            fp += 1 if v_predito != v_real else 0\n",
    "        else:\n",
    "            tn += 1 if v_predito == v_real else 0\n",
    "            fn += 1 if v_predito != v_real else 0\n",
    "    \n",
    "    return np.array([\n",
    "        # valores da classe positiva\n",
    "        [ tp, fp ],\n",
    "        # valores da classe negativa\n",
    "        [ fn, tn ]\n",
    "    ])\n",
    "\n",
    "get_confusion_matrix(reais=valores_reais, preditos=valores_preditos, labels=[1,0])\n",
    "# array([[3, 1], [2, 4]])"
   ]
  },
  {
   "cell_type": "markdown",
   "metadata": {},
   "source": [
    "## Calculando Matriz de Confusão com Lib"
   ]
  },
  {
   "cell_type": "code",
   "execution_count": 55,
   "metadata": {
    "scrolled": true
   },
   "outputs": [
    {
     "name": "stdout",
     "output_type": "stream",
     "text": [
      "[[2191    0]\n",
      " [ 174  997]]\n"
     ]
    }
   ],
   "source": [
    "confusion_matrix = confusion_matrix(col_ls_array_real, array_bin_col_ls)\n",
    "print(confusion_matrix)"
   ]
  },
  {
   "cell_type": "code",
   "execution_count": 56,
   "metadata": {},
   "outputs": [
    {
     "data": {
      "image/png": "[encoded data removed]",
      "text/plain": [
       "<Figure size 288x288 with 2 Axes>"
      ]
     },
     "metadata": {
      "needs_background": "light"
     },
     "output_type": "display_data"
    }
   ],
   "source": [
    "plt.matshow(confusion_matrix)\n",
    "plt.title(\"Matriz de Confusão Linguagem de Script\\n\")\n",
    "plt.colorbar()\n",
    "plt.ylabel(\"Classificações corretas\")\n",
    "plt.xlabel(\"Classificações obtidas\")\n",
    "plt.show()"
   ]
  }
 ],
 "metadata": {
  "kernelspec": {
   "display_name": "Python 3",
   "language": "python",
   "name": "python3"
  },
  "language_info": {
   "codemirror_mode": {
    "name": "ipython",
    "version": 3
   },
   "file_extension": ".py",
   "mimetype": "text/x-python",
   "name": "python",
   "nbconvert_exporter": "python",
   "pygments_lexer": "ipython3",
   "version": "3.7.3"
  }
 },
 "nbformat": 4,
 "nbformat_minor": 2
}
